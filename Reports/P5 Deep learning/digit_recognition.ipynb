{
 "cells": [
  {
   "cell_type": "markdown",
   "metadata": {},
   "source": [
    "# 机器学习工程师纳米学位\n",
    "## 深度学习\n",
    "## 项目：搭建一个数字识别项目\n",
    "\n",
    "在此文件中，我们提供给你了一个模板，以便于你根据项目的要求一步步实现要求的功能，进而完成整个项目。如果你认为需要导入另外的一些代码，请确保你正确导入了他们，并且包含在你的提交文件中。以**'练习'**开始的标题表示接下来你将开始实现你的项目。注意有一些练习是可选的，并且用**'可选'**标记出来了。\n",
    "\n",
    "在此文件中，有些示例代码已经提供给你，但你还需要实现更多的功能让项目成功运行。除非有明确要求，你无须修改任何已给出的代码。以'练习'开始的标题表示接下来的代码部分中有你必须要实现的功能。每一部分都会有详细的指导，需要实现的部分也会在注释中以'TODO'标出。请仔细阅读所有的提示！\n",
    "\n",
    "除了实现代码外，你还必须回答一些与项目和你的实现有关的问题。每一个需要你回答的问题都会以**'问题 X'**为标题。请仔细阅读每个问题，并且在问题后的**'回答'**文字框中写出完整的答案。我们将根据你对问题的回答和撰写代码所实现的功能来对你提交的项目进行评分。\n",
    "\n",
    ">**注意：** Code 和 Markdown 区域可通过 **Shift + Enter** 快捷键运行。此外，Markdown可以通过双击进入编辑模式。"
   ]
  },
  {
   "cell_type": "markdown",
   "metadata": {},
   "source": [
    "## 连接 mnist 的字符来合成数据\n",
    "\n",
    "你可以通过连接[MNIST](http://yann.lecun.com/exdb/mnist/)的字符来合成数据来训练这个模型。为了快速导入数据集，我们可以使用 [Keras Datasets](https://keras.io/datasets/#mnist-database-of-handwritten-digits) [中文文档](http://keras-cn.readthedocs.io/en/latest/other/datasets/#mnist)。"
   ]
  },
  {
   "cell_type": "markdown",
   "metadata": {},
   "source": [
    "### 载入 mnist"
   ]
  },
  {
   "cell_type": "code",
   "execution_count": 1,
   "metadata": {
    "collapsed": false
   },
   "outputs": [
    {
     "name": "stderr",
     "output_type": "stream",
     "text": [
      "Using TensorFlow backend.\n"
     ]
    }
   ],
   "source": [
    "from keras.datasets import mnist\n",
    "\n",
    "(X_raw, y_raw), (X_raw_test, y_raw_test) = mnist.load_data()\n",
    "\n",
    "n_train, n_test = X_raw.shape[0], X_raw_test.shape[0]"
   ]
  },
  {
   "cell_type": "markdown",
   "metadata": {},
   "source": [
    "### 可视化 mnist\n",
    "\n",
    "我们可以通过 matplotlib 来可视化我们的原始数据集。"
   ]
  },
  {
   "cell_type": "code",
   "execution_count": 2,
   "metadata": {
    "collapsed": false
   },
   "outputs": [
    {
     "data": {
      "image/png": "[encoded data removed]",
      "text/plain": [
       "<matplotlib.figure.Figure at 0x1af4bffef28>"
      ]
     },
     "metadata": {
      "image/png": {
       "height": 257,
       "width": 370
      }
     },
     "output_type": "display_data"
    }
   ],
   "source": [
    "import matplotlib.pyplot as plt\n",
    "import random\n",
    "\n",
    "%matplotlib inline\n",
    "%config InlineBackend.figure_format = 'retina'\n",
    "\n",
    "for i in range(15):\n",
    "    plt.subplot(3, 5, i+1)\n",
    "    index = random.randint(0, n_train-1)\n",
    "    plt.title(str(y_raw[index]))\n",
    "    plt.imshow(X_raw[index], cmap='gray')\n",
    "    plt.axis('off')"
   ]
  },
  {
   "cell_type": "markdown",
   "metadata": {},
   "source": [
    "### 练习：合成数据\n",
    "\n",
    "你需要随机取随机张图片，然后将它们拼接成新的图片。\n",
    "\n",
    "你需要设置20%的数据作为验证集，以保证模型没有过拟合。"
   ]
  },
  {
   "cell_type": "code",
   "execution_count": 3,
   "metadata": {
    "collapsed": false
   },
   "outputs": [],
   "source": [
    "import numpy as np\n",
    "from sklearn.model_selection import train_test_split\n",
    "\n",
    "n_class, n_len, width, height = 11, 5, 28, 28\n",
    "\n",
    "def generate_dataset(X, y):\n",
    "    X_len = X.shape[0]\n",
    "    \n",
    "    X_gen = np.zeros((X_len, height, width*n_len, 1), dtype=np.uint8)\n",
    "    y_gen = [np.zeros((X_len, n_class), dtype=np.uint8) for i in range(n_len)]\n",
    "    # TODO: 随机取1~5个数字，并拼接成新的图片\n",
    "    \n",
    "    for i in range(0,X_len): #需要生成X_len张图片，所以有X_len次随机取数过程\n",
    "        num = random.randint(1, 5) #随机取一个数\n",
    "        for t in range(0,num):\n",
    "            s = random.randint(0,X_len-1)\n",
    "            X_t = X[s] #随机从X中挑选一张图片作为新图片的第t个图\n",
    "            #插入到x_gen中，计算宽度所占的位置\n",
    "            t_start = t * width\n",
    "            t_end = t * width + width\n",
    "            X_gen[i][:,t_start:t_end,0] = X_t\n",
    "            #同时把对应的数字信息标记到y_gen上\n",
    "            y_gen[t][i][y[s]] = 1\n",
    "        \n",
    "        for v in range(num,5):\n",
    "            y_gen[v][i][-1] = 1 #图片中空缺的标签打上10\n",
    "            \n",
    "    return X_gen, y_gen\n",
    "\n",
    "X_raw_train, X_raw_valid, y_raw_train, y_raw_valid = train_test_split(X_raw, y_raw, test_size=0.2, random_state=42)\n",
    "\n",
    "X_train, y_train = generate_dataset(X_raw_train, y_raw_train)\n",
    "X_valid, y_valid = generate_dataset(X_raw_valid, y_raw_valid)\n",
    "X_test, y_test = generate_dataset(X_raw_test, y_raw_test)"
   ]
  },
  {
   "cell_type": "code",
   "execution_count": 4,
   "metadata": {
    "collapsed": false
   },
   "outputs": [
    {
     "data": {
      "image/png": "[encoded data removed]",
      "text/plain": [
       "<matplotlib.figure.Figure at 0x1af4dab2780>"
      ]
     },
     "metadata": {
      "image/png": {
       "height": 246,
       "width": 370
      }
     },
     "output_type": "display_data"
    }
   ],
   "source": [
    "# 显示生成的图片\n",
    "for i in range(15):\n",
    "    plt.subplot(5, 3, i+1)\n",
    "    index = random.randint(0, n_test-1)\n",
    "    title = ''\n",
    "    for j in range(n_len):\n",
    "        title += str(np.argmax(y_test[j][index])) + ','\n",
    "    \n",
    "    plt.title(title)\n",
    "    plt.imshow(X_test[index][:,:,0], cmap='gray')\n",
    "    plt.axis('off')"
   ]
  },
  {
   "cell_type": "markdown",
   "metadata": {},
   "source": [
    "### 问题 1\n",
    "_你是如何合成数据集的？为什么要分训练集，验证集和测试集？_\n",
    "\n",
    "**回答：**\n",
    "\n",
    "原有mnist数据集的每张图片都是28*28。为了合成新的数据集，每次从mnist中随机抽取1-5个数字，横向拼接成新的图片，大小为28*140。如果随机选取的数字不足5张，则用空格填充。最终得到一个(n,28,140,1)的新数据集。\n",
    "\n",
    "**训练集**主要是用来用来拟合模型，通过设置分类器的参数，训练分类模型。**验证集**则是对学习出来的多个模型，为了能找出效果最佳的模型，使用各个模型对验证集数据进行预测，根据准确率，选出效果最佳的模型所对应的参数，即用来调整模型参数。**测试集**可以看作从来不存在的数据集，当已经确定模型参数后，用于测试并评价模型的性能。\n"
   ]
  },
  {
   "cell_type": "markdown",
   "metadata": {},
   "source": [
    "### 练习：设计并测试一个模型架构\n",
    "\n",
    "设计并实现一个能够识别数字序列的深度学习模型。为了产生用于测试的合成数字序列，你可以进行如下的设置：比如，你可以限制一个数据序列最多五个数字，并在你的深度网络上使用五个分类器。同时，你有必要准备一个额外的“空白”的字符，以处理相对较短的数字序列。\n",
    "\n",
    "在思考这个问题的时候有很多方面可以考虑：\n",
    "\n",
    "- 你的模型可以基于深度神经网络或者是卷积神经网络。\n",
    "- 你可以尝试是否在每个分类器间共享权值。\n",
    "- 你还可以在深度神经网络中使用循环网络来替换其中的分类层，并且将数字序列里的数字一个一个地输出。\n",
    "\n",
    "在使用 Keras 搭建模型的时候，你可以使用 [函数式模型 API](http://keras-cn.readthedocs.io/en/latest/models/model/) 的方式来搭建多输出模型。"
   ]
  },
  {
   "cell_type": "code",
   "execution_count": 5,
   "metadata": {
    "collapsed": false,
    "scrolled": false
   },
   "outputs": [],
   "source": [
    "from keras.models import Model\n",
    "from keras.layers import *\n",
    "from keras.losses import categorical_crossentropy\n",
    "from keras.optimizers import Adadelta\n",
    "\n",
    "# TODO: 构建你的模型\n",
    "input_data = Input(shape=(28,140,1))\n",
    "a = Conv2D(32,(3,3), padding='same',activation='relu')(input_data)\n",
    "a = MaxPool2D(pool_size=(2,2))(a)\n",
    "a = Conv2D(64,(3,3),padding='same',activation='relu')(a)\n",
    "a = MaxPool2D(pool_size=(2,2))(a)\n",
    "a = Flatten()(a)\n",
    "a = Dropout(0.5)(a)\n",
    "out_data = [Dense(11, activation='softmax')(a) for i in range(n_len)] #全连接层\n",
    "model = Model(inputs=input_data,outputs=out_data)\n",
    "model.compile(loss=categorical_crossentropy,optimizer=Adadelta(),metrics=['accuracy'])"
   ]
  },
  {
   "cell_type": "markdown",
   "metadata": {},
   "source": [
    "### 问题 2\n",
    "_你为解决这个问题采取了什么技术？请详细介绍你使用的技术。_\n",
    "\n",
    "**回答：** \n",
    "\n",
    "为了解决这个问题，我应用了CNN卷积神经网络技术。\n",
    "利用keras学习库搭建卷积神经网络，对输入的每张图片通过两层卷积神经网络对图像进行卷积，利用relu函数对卷积的数据进行激活。并且用2×2的max_pool在卷积过程中进行池化，从而达到减少数据的特征的目的。卷积后的结果通过Flatten() 将数据一维化，并用Dropout方法降低过拟合问题。最后是包含11个神经元的输出层，激活函数为Softmax。\n",
    "\n",
    "**涉及到的具体技术说明：**\n",
    "1. 首先，应用的是卷积技术。在模型中的卷积层中，通常包含若干个特征平面，每个特征平面由一些矩形排列的的神经元组成，同一特征平面的神经元共享权值，这里共享的权值就是卷积核(滤波器)。在网络的训练过程中卷积核(滤波器)将通过学习得到合理的权值。一般来说，第一层卷积层的滤波器用来检测低阶特征，比如边、角、曲线等。随着卷积层的增加，对应滤波器检测的特征就更加复杂。卷积层的本质是个特征抽取层。\n",
    "2. 在两个卷积层中，均利用了relu函数对卷积的数据进行激活。该函数数学公式为：f(x)=max(x,0)，如果输入小于 0，修正线性单元的输出是 0，如果输入大于 0，则输出等于输入。对大型模型来说，relu函数相比sigmod函数计算量小很多，训练速度要快很多，而且不会有 sigmoid 梯度消失的问题。\n",
    "3. 第三、五层用利用了最大池化的技术。利用了 2x2 的滤波器，选择每个步长所产出的最大值作为下一层传输，压缩了图片，从而达到简化模型的作用，让神经网络专注于最重要的元素。我们选择最大池化而不是最小池化的原因是我们更在乎特征有没有，而不关心特征位置在哪个像素点上。因此用最大池化，把某个 (2, 2) 区域的特征分布缩减为一个数字，来表示某区域有没有该特征。\n",
    "4. 第七层是一个dropout层，它的作用是在训练过程中随机让某些隐含层节点不工作，减少冗余的学习，实践表明dropout方法可以使网络更加稳固，减少过拟合分风险(不工作节点可以认为不是网络结构的一部分，但是它的权重得保留下来，下次样本输入时可能又会工作)\n",
    "5. softmax函数将每个单元的输出压缩到0和1之间,在拆分输出时会使输出之和等于1。softmax函数的输出等于分类概率分布，显示了任何类别为真的概率。但是如果进行多项分类的话，需要使用多个输出单元（每个类别一个单元），并对输出进行softmax激活，解决了sigmoid可用于只有一个输出单元的二元分类的问题。\n",
    "6. 模型中应用了Adadelta作为优化器。Adadelta算法是梯度算法的一个变种，避免手动调节学习率，可以让其在学习的过程中自己变化。本质是对Adagrad算法的扩展，依然是对学习率进行自适应约束，但是进行了计算上的简化，速度较快。实践表明，adadelta在MNIST上学习性能较强。\n",
    "\n",
    "参考：\n",
    "1. https://classroom.udacity.com/nanodegrees/nd009/parts/9f359353-1efd-4eec-a336-ed2539f6bb29/modules/fe7d3745-38da-4893-9b8c-ec539c39d383/lessons/6ec4ffd6-4f5c-4b88-bdf6-f169119834f0/concepts/8ee4c905-fa9c-40a4-9fd7-427a155b81b4\n",
    "2. http://blog.csdn.net/luo123n/article/details/48239963"
   ]
  },
  {
   "cell_type": "markdown",
   "metadata": {},
   "source": [
    "### 可视化你的网络模型\n",
    "\n",
    "参考链接：[可视化visualization](http://keras-cn.readthedocs.io/en/latest/other/visualization/)\n",
    "\n",
    "可以是保存成 PNG 格式显示，也可以直接使用 SVG 格式。 SVG 是矢量图，它的优点是可以无限放大。"
   ]
  },
  {
   "cell_type": "code",
   "execution_count": 6,
   "metadata": {
    "collapsed": false
   },
   "outputs": [
    {
     "data": {
      "image/svg+xml": [
       "<svg height=\"636pt\" viewBox=\"0.00 0.00 1365.00 636.00\" width=\"1365pt\" xmlns=\"http://www.w3.org/2000/svg\" xmlns:xlink=\"http://www.w3.org/1999/xlink\">\n",
       "<g class=\"graph\" id=\"graph0\" transform=\"scale(1 1) rotate(0) translate(4 632)\">\n",
       "<title>G</title>\n",
       "<polygon fill=\"white\" points=\"-4,4 -4,-632 1361,-632 1361,4 -4,4\" stroke=\"none\"/>\n",
       "<!-- 1852762920776 -->\n",
       "<g class=\"node\" id=\"node1\"><title>1852762920776</title>\n",
       "<polygon fill=\"none\" points=\"528,-581.5 528,-627.5 829,-627.5 829,-581.5 528,-581.5\" stroke=\"black\"/>\n",
       "<text font-family=\"Times New Roman,serif\" font-size=\"14.00\" text-anchor=\"middle\" x=\"591\" y=\"-600.8\">input_1: InputLayer</text>\n",
       "<polyline fill=\"none\" points=\"654,-581.5 654,-627.5 \" stroke=\"black\"/>\n",
       "<text font-family=\"Times New Roman,serif\" font-size=\"14.00\" text-anchor=\"middle\" x=\"682\" y=\"-612.3\">input:</text>\n",
       "<polyline fill=\"none\" points=\"654,-604.5 710,-604.5 \" stroke=\"black\"/>\n",
       "<text font-family=\"Times New Roman,serif\" font-size=\"14.00\" text-anchor=\"middle\" x=\"682\" y=\"-589.3\">output:</text>\n",
       "<polyline fill=\"none\" points=\"710,-581.5 710,-627.5 \" stroke=\"black\"/>\n",
       "<text font-family=\"Times New Roman,serif\" font-size=\"14.00\" text-anchor=\"middle\" x=\"769.5\" y=\"-612.3\">(None, 28, 140, 1)</text>\n",
       "<polyline fill=\"none\" points=\"710,-604.5 829,-604.5 \" stroke=\"black\"/>\n",
       "<text font-family=\"Times New Roman,serif\" font-size=\"14.00\" text-anchor=\"middle\" x=\"769.5\" y=\"-589.3\">(None, 28, 140, 1)</text>\n",
       "</g>\n",
       "<!-- 1852762920608 -->\n",
       "<g class=\"node\" id=\"node2\"><title>1852762920608</title>\n",
       "<polygon fill=\"none\" points=\"524.5,-498.5 524.5,-544.5 832.5,-544.5 832.5,-498.5 524.5,-498.5\" stroke=\"black\"/>\n",
       "<text font-family=\"Times New Roman,serif\" font-size=\"14.00\" text-anchor=\"middle\" x=\"588\" y=\"-517.8\">conv2d_1: Conv2D</text>\n",
       "<polyline fill=\"none\" points=\"651.5,-498.5 651.5,-544.5 \" stroke=\"black\"/>\n",
       "<text font-family=\"Times New Roman,serif\" font-size=\"14.00\" text-anchor=\"middle\" x=\"679.5\" y=\"-529.3\">input:</text>\n",
       "<polyline fill=\"none\" points=\"651.5,-521.5 707.5,-521.5 \" stroke=\"black\"/>\n",
       "<text font-family=\"Times New Roman,serif\" font-size=\"14.00\" text-anchor=\"middle\" x=\"679.5\" y=\"-506.3\">output:</text>\n",
       "<polyline fill=\"none\" points=\"707.5,-498.5 707.5,-544.5 \" stroke=\"black\"/>\n",
       "<text font-family=\"Times New Roman,serif\" font-size=\"14.00\" text-anchor=\"middle\" x=\"770\" y=\"-529.3\">(None, 28, 140, 1)</text>\n",
       "<polyline fill=\"none\" points=\"707.5,-521.5 832.5,-521.5 \" stroke=\"black\"/>\n",
       "<text font-family=\"Times New Roman,serif\" font-size=\"14.00\" text-anchor=\"middle\" x=\"770\" y=\"-506.3\">(None, 28, 140, 32)</text>\n",
       "</g>\n",
       "<!-- 1852762920776&#45;&gt;1852762920608 -->\n",
       "<g class=\"edge\" id=\"edge1\"><title>1852762920776-&gt;1852762920608</title>\n",
       "<path d=\"M678.5,-581.366C678.5,-573.152 678.5,-563.658 678.5,-554.725\" fill=\"none\" stroke=\"black\"/>\n",
       "<polygon fill=\"black\" points=\"682,-554.607 678.5,-544.607 675,-554.607 682,-554.607\" stroke=\"black\"/>\n",
       "</g>\n",
       "<!-- 1852761291576 -->\n",
       "<g class=\"node\" id=\"node3\"><title>1852761291576</title>\n",
       "<polygon fill=\"none\" points=\"483.5,-415.5 483.5,-461.5 873.5,-461.5 873.5,-415.5 483.5,-415.5\" stroke=\"black\"/>\n",
       "<text font-family=\"Times New Roman,serif\" font-size=\"14.00\" text-anchor=\"middle\" x=\"588\" y=\"-434.8\">max_pooling2d_1: MaxPooling2D</text>\n",
       "<polyline fill=\"none\" points=\"692.5,-415.5 692.5,-461.5 \" stroke=\"black\"/>\n",
       "<text font-family=\"Times New Roman,serif\" font-size=\"14.00\" text-anchor=\"middle\" x=\"720.5\" y=\"-446.3\">input:</text>\n",
       "<polyline fill=\"none\" points=\"692.5,-438.5 748.5,-438.5 \" stroke=\"black\"/>\n",
       "<text font-family=\"Times New Roman,serif\" font-size=\"14.00\" text-anchor=\"middle\" x=\"720.5\" y=\"-423.3\">output:</text>\n",
       "<polyline fill=\"none\" points=\"748.5,-415.5 748.5,-461.5 \" stroke=\"black\"/>\n",
       "<text font-family=\"Times New Roman,serif\" font-size=\"14.00\" text-anchor=\"middle\" x=\"811\" y=\"-446.3\">(None, 28, 140, 32)</text>\n",
       "<polyline fill=\"none\" points=\"748.5,-438.5 873.5,-438.5 \" stroke=\"black\"/>\n",
       "<text font-family=\"Times New Roman,serif\" font-size=\"14.00\" text-anchor=\"middle\" x=\"811\" y=\"-423.3\">(None, 14, 70, 32)</text>\n",
       "</g>\n",
       "<!-- 1852762920608&#45;&gt;1852761291576 -->\n",
       "<g class=\"edge\" id=\"edge2\"><title>1852762920608-&gt;1852761291576</title>\n",
       "<path d=\"M678.5,-498.366C678.5,-490.152 678.5,-480.658 678.5,-471.725\" fill=\"none\" stroke=\"black\"/>\n",
       "<polygon fill=\"black\" points=\"682,-471.607 678.5,-461.607 675,-471.607 682,-471.607\" stroke=\"black\"/>\n",
       "</g>\n",
       "<!-- 1852762448280 -->\n",
       "<g class=\"node\" id=\"node4\"><title>1852762448280</title>\n",
       "<polygon fill=\"none\" points=\"527.5,-332.5 527.5,-378.5 829.5,-378.5 829.5,-332.5 527.5,-332.5\" stroke=\"black\"/>\n",
       "<text font-family=\"Times New Roman,serif\" font-size=\"14.00\" text-anchor=\"middle\" x=\"591\" y=\"-351.8\">conv2d_2: Conv2D</text>\n",
       "<polyline fill=\"none\" points=\"654.5,-332.5 654.5,-378.5 \" stroke=\"black\"/>\n",
       "<text font-family=\"Times New Roman,serif\" font-size=\"14.00\" text-anchor=\"middle\" x=\"682.5\" y=\"-363.3\">input:</text>\n",
       "<polyline fill=\"none\" points=\"654.5,-355.5 710.5,-355.5 \" stroke=\"black\"/>\n",
       "<text font-family=\"Times New Roman,serif\" font-size=\"14.00\" text-anchor=\"middle\" x=\"682.5\" y=\"-340.3\">output:</text>\n",
       "<polyline fill=\"none\" points=\"710.5,-332.5 710.5,-378.5 \" stroke=\"black\"/>\n",
       "<text font-family=\"Times New Roman,serif\" font-size=\"14.00\" text-anchor=\"middle\" x=\"770\" y=\"-363.3\">(None, 14, 70, 32)</text>\n",
       "<polyline fill=\"none\" points=\"710.5,-355.5 829.5,-355.5 \" stroke=\"black\"/>\n",
       "<text font-family=\"Times New Roman,serif\" font-size=\"14.00\" text-anchor=\"middle\" x=\"770\" y=\"-340.3\">(None, 14, 70, 64)</text>\n",
       "</g>\n",
       "<!-- 1852761291576&#45;&gt;1852762448280 -->\n",
       "<g class=\"edge\" id=\"edge3\"><title>1852761291576-&gt;1852762448280</title>\n",
       "<path d=\"M678.5,-415.366C678.5,-407.152 678.5,-397.658 678.5,-388.725\" fill=\"none\" stroke=\"black\"/>\n",
       "<polygon fill=\"black\" points=\"682,-388.607 678.5,-378.607 675,-388.607 682,-388.607\" stroke=\"black\"/>\n",
       "</g>\n",
       "<!-- 1852762706608 -->\n",
       "<g class=\"node\" id=\"node5\"><title>1852762706608</title>\n",
       "<polygon fill=\"none\" points=\"486.5,-249.5 486.5,-295.5 870.5,-295.5 870.5,-249.5 486.5,-249.5\" stroke=\"black\"/>\n",
       "<text font-family=\"Times New Roman,serif\" font-size=\"14.00\" text-anchor=\"middle\" x=\"591\" y=\"-268.8\">max_pooling2d_2: MaxPooling2D</text>\n",
       "<polyline fill=\"none\" points=\"695.5,-249.5 695.5,-295.5 \" stroke=\"black\"/>\n",
       "<text font-family=\"Times New Roman,serif\" font-size=\"14.00\" text-anchor=\"middle\" x=\"723.5\" y=\"-280.3\">input:</text>\n",
       "<polyline fill=\"none\" points=\"695.5,-272.5 751.5,-272.5 \" stroke=\"black\"/>\n",
       "<text font-family=\"Times New Roman,serif\" font-size=\"14.00\" text-anchor=\"middle\" x=\"723.5\" y=\"-257.3\">output:</text>\n",
       "<polyline fill=\"none\" points=\"751.5,-249.5 751.5,-295.5 \" stroke=\"black\"/>\n",
       "<text font-family=\"Times New Roman,serif\" font-size=\"14.00\" text-anchor=\"middle\" x=\"811\" y=\"-280.3\">(None, 14, 70, 64)</text>\n",
       "<polyline fill=\"none\" points=\"751.5,-272.5 870.5,-272.5 \" stroke=\"black\"/>\n",
       "<text font-family=\"Times New Roman,serif\" font-size=\"14.00\" text-anchor=\"middle\" x=\"811\" y=\"-257.3\">(None, 7, 35, 64)</text>\n",
       "</g>\n",
       "<!-- 1852762448280&#45;&gt;1852762706608 -->\n",
       "<g class=\"edge\" id=\"edge4\"><title>1852762448280-&gt;1852762706608</title>\n",
       "<path d=\"M678.5,-332.366C678.5,-324.152 678.5,-314.658 678.5,-305.725\" fill=\"none\" stroke=\"black\"/>\n",
       "<polygon fill=\"black\" points=\"682,-305.607 678.5,-295.607 675,-305.607 682,-305.607\" stroke=\"black\"/>\n",
       "</g>\n",
       "<!-- 1852760929280 -->\n",
       "<g class=\"node\" id=\"node6\"><title>1852760929280</title>\n",
       "<polygon fill=\"none\" points=\"540,-166.5 540,-212.5 817,-212.5 817,-166.5 540,-166.5\" stroke=\"black\"/>\n",
       "<text font-family=\"Times New Roman,serif\" font-size=\"14.00\" text-anchor=\"middle\" x=\"594.5\" y=\"-185.8\">flatten_1: Flatten</text>\n",
       "<polyline fill=\"none\" points=\"649,-166.5 649,-212.5 \" stroke=\"black\"/>\n",
       "<text font-family=\"Times New Roman,serif\" font-size=\"14.00\" text-anchor=\"middle\" x=\"677\" y=\"-197.3\">input:</text>\n",
       "<polyline fill=\"none\" points=\"649,-189.5 705,-189.5 \" stroke=\"black\"/>\n",
       "<text font-family=\"Times New Roman,serif\" font-size=\"14.00\" text-anchor=\"middle\" x=\"677\" y=\"-174.3\">output:</text>\n",
       "<polyline fill=\"none\" points=\"705,-166.5 705,-212.5 \" stroke=\"black\"/>\n",
       "<text font-family=\"Times New Roman,serif\" font-size=\"14.00\" text-anchor=\"middle\" x=\"761\" y=\"-197.3\">(None, 7, 35, 64)</text>\n",
       "<polyline fill=\"none\" points=\"705,-189.5 817,-189.5 \" stroke=\"black\"/>\n",
       "<text font-family=\"Times New Roman,serif\" font-size=\"14.00\" text-anchor=\"middle\" x=\"761\" y=\"-174.3\">(None, 15680)</text>\n",
       "</g>\n",
       "<!-- 1852762706608&#45;&gt;1852760929280 -->\n",
       "<g class=\"edge\" id=\"edge5\"><title>1852762706608-&gt;1852760929280</title>\n",
       "<path d=\"M678.5,-249.366C678.5,-241.152 678.5,-231.658 678.5,-222.725\" fill=\"none\" stroke=\"black\"/>\n",
       "<polygon fill=\"black\" points=\"682,-222.607 678.5,-212.607 675,-222.607 682,-222.607\" stroke=\"black\"/>\n",
       "</g>\n",
       "<!-- 1852767225168 -->\n",
       "<g class=\"node\" id=\"node7\"><title>1852767225168</title>\n",
       "<polygon fill=\"none\" points=\"537,-83.5 537,-129.5 820,-129.5 820,-83.5 537,-83.5\" stroke=\"black\"/>\n",
       "<text font-family=\"Times New Roman,serif\" font-size=\"14.00\" text-anchor=\"middle\" x=\"602\" y=\"-102.8\">dropout_1: Dropout</text>\n",
       "<polyline fill=\"none\" points=\"667,-83.5 667,-129.5 \" stroke=\"black\"/>\n",
       "<text font-family=\"Times New Roman,serif\" font-size=\"14.00\" text-anchor=\"middle\" x=\"695\" y=\"-114.3\">input:</text>\n",
       "<polyline fill=\"none\" points=\"667,-106.5 723,-106.5 \" stroke=\"black\"/>\n",
       "<text font-family=\"Times New Roman,serif\" font-size=\"14.00\" text-anchor=\"middle\" x=\"695\" y=\"-91.3\">output:</text>\n",
       "<polyline fill=\"none\" points=\"723,-83.5 723,-129.5 \" stroke=\"black\"/>\n",
       "<text font-family=\"Times New Roman,serif\" font-size=\"14.00\" text-anchor=\"middle\" x=\"771.5\" y=\"-114.3\">(None, 15680)</text>\n",
       "<polyline fill=\"none\" points=\"723,-106.5 820,-106.5 \" stroke=\"black\"/>\n",
       "<text font-family=\"Times New Roman,serif\" font-size=\"14.00\" text-anchor=\"middle\" x=\"771.5\" y=\"-91.3\">(None, 15680)</text>\n",
       "</g>\n",
       "<!-- 1852760929280&#45;&gt;1852767225168 -->\n",
       "<g class=\"edge\" id=\"edge6\"><title>1852760929280-&gt;1852767225168</title>\n",
       "<path d=\"M678.5,-166.366C678.5,-158.152 678.5,-148.658 678.5,-139.725\" fill=\"none\" stroke=\"black\"/>\n",
       "<polygon fill=\"black\" points=\"682,-139.607 678.5,-129.607 675,-139.607 682,-139.607\" stroke=\"black\"/>\n",
       "</g>\n",
       "<!-- 1852767159744 -->\n",
       "<g class=\"node\" id=\"node8\"><title>1852767159744</title>\n",
       "<polygon fill=\"none\" points=\"0,-0.5 0,-46.5 257,-46.5 257,-0.5 0,-0.5\" stroke=\"black\"/>\n",
       "<text font-family=\"Times New Roman,serif\" font-size=\"14.00\" text-anchor=\"middle\" x=\"52\" y=\"-19.8\">dense_1: Dense</text>\n",
       "<polyline fill=\"none\" points=\"104,-0.5 104,-46.5 \" stroke=\"black\"/>\n",
       "<text font-family=\"Times New Roman,serif\" font-size=\"14.00\" text-anchor=\"middle\" x=\"132\" y=\"-31.3\">input:</text>\n",
       "<polyline fill=\"none\" points=\"104,-23.5 160,-23.5 \" stroke=\"black\"/>\n",
       "<text font-family=\"Times New Roman,serif\" font-size=\"14.00\" text-anchor=\"middle\" x=\"132\" y=\"-8.3\">output:</text>\n",
       "<polyline fill=\"none\" points=\"160,-0.5 160,-46.5 \" stroke=\"black\"/>\n",
       "<text font-family=\"Times New Roman,serif\" font-size=\"14.00\" text-anchor=\"middle\" x=\"208.5\" y=\"-31.3\">(None, 15680)</text>\n",
       "<polyline fill=\"none\" points=\"160,-23.5 257,-23.5 \" stroke=\"black\"/>\n",
       "<text font-family=\"Times New Roman,serif\" font-size=\"14.00\" text-anchor=\"middle\" x=\"208.5\" y=\"-8.3\">(None, 11)</text>\n",
       "</g>\n",
       "<!-- 1852767225168&#45;&gt;1852767159744 -->\n",
       "<g class=\"edge\" id=\"edge7\"><title>1852767225168-&gt;1852767159744</title>\n",
       "<path d=\"M536.939,-86.2351C459.882,-75.5579 362.607,-61.7726 267.307,-47.2642\" fill=\"none\" stroke=\"black\"/>\n",
       "<polygon fill=\"black\" points=\"267.611,-43.7702 257.197,-45.7212 266.555,-50.69 267.611,-43.7702\" stroke=\"black\"/>\n",
       "</g>\n",
       "<!-- 1852767339184 -->\n",
       "<g class=\"node\" id=\"node9\"><title>1852767339184</title>\n",
       "<polygon fill=\"none\" points=\"275,-0.5 275,-46.5 532,-46.5 532,-0.5 275,-0.5\" stroke=\"black\"/>\n",
       "<text font-family=\"Times New Roman,serif\" font-size=\"14.00\" text-anchor=\"middle\" x=\"327\" y=\"-19.8\">dense_2: Dense</text>\n",
       "<polyline fill=\"none\" points=\"379,-0.5 379,-46.5 \" stroke=\"black\"/>\n",
       "<text font-family=\"Times New Roman,serif\" font-size=\"14.00\" text-anchor=\"middle\" x=\"407\" y=\"-31.3\">input:</text>\n",
       "<polyline fill=\"none\" points=\"379,-23.5 435,-23.5 \" stroke=\"black\"/>\n",
       "<text font-family=\"Times New Roman,serif\" font-size=\"14.00\" text-anchor=\"middle\" x=\"407\" y=\"-8.3\">output:</text>\n",
       "<polyline fill=\"none\" points=\"435,-0.5 435,-46.5 \" stroke=\"black\"/>\n",
       "<text font-family=\"Times New Roman,serif\" font-size=\"14.00\" text-anchor=\"middle\" x=\"483.5\" y=\"-31.3\">(None, 15680)</text>\n",
       "<polyline fill=\"none\" points=\"435,-23.5 532,-23.5 \" stroke=\"black\"/>\n",
       "<text font-family=\"Times New Roman,serif\" font-size=\"14.00\" text-anchor=\"middle\" x=\"483.5\" y=\"-8.3\">(None, 11)</text>\n",
       "</g>\n",
       "<!-- 1852767225168&#45;&gt;1852767339184 -->\n",
       "<g class=\"edge\" id=\"edge8\"><title>1852767225168-&gt;1852767339184</title>\n",
       "<path d=\"M603.718,-83.4734C567.948,-72.9374 524.97,-60.2785 488.019,-49.3947\" fill=\"none\" stroke=\"black\"/>\n",
       "<polygon fill=\"black\" points=\"488.848,-45.9903 478.267,-46.5222 486.87,-52.7051 488.848,-45.9903\" stroke=\"black\"/>\n",
       "</g>\n",
       "<!-- 1852767575120 -->\n",
       "<g class=\"node\" id=\"node10\"><title>1852767575120</title>\n",
       "<polygon fill=\"none\" points=\"550,-0.5 550,-46.5 807,-46.5 807,-0.5 550,-0.5\" stroke=\"black\"/>\n",
       "<text font-family=\"Times New Roman,serif\" font-size=\"14.00\" text-anchor=\"middle\" x=\"602\" y=\"-19.8\">dense_3: Dense</text>\n",
       "<polyline fill=\"none\" points=\"654,-0.5 654,-46.5 \" stroke=\"black\"/>\n",
       "<text font-family=\"Times New Roman,serif\" font-size=\"14.00\" text-anchor=\"middle\" x=\"682\" y=\"-31.3\">input:</text>\n",
       "<polyline fill=\"none\" points=\"654,-23.5 710,-23.5 \" stroke=\"black\"/>\n",
       "<text font-family=\"Times New Roman,serif\" font-size=\"14.00\" text-anchor=\"middle\" x=\"682\" y=\"-8.3\">output:</text>\n",
       "<polyline fill=\"none\" points=\"710,-0.5 710,-46.5 \" stroke=\"black\"/>\n",
       "<text font-family=\"Times New Roman,serif\" font-size=\"14.00\" text-anchor=\"middle\" x=\"758.5\" y=\"-31.3\">(None, 15680)</text>\n",
       "<polyline fill=\"none\" points=\"710,-23.5 807,-23.5 \" stroke=\"black\"/>\n",
       "<text font-family=\"Times New Roman,serif\" font-size=\"14.00\" text-anchor=\"middle\" x=\"758.5\" y=\"-8.3\">(None, 11)</text>\n",
       "</g>\n",
       "<!-- 1852767225168&#45;&gt;1852767575120 -->\n",
       "<g class=\"edge\" id=\"edge9\"><title>1852767225168-&gt;1852767575120</title>\n",
       "<path d=\"M678.5,-83.3664C678.5,-75.1516 678.5,-65.6579 678.5,-56.7252\" fill=\"none\" stroke=\"black\"/>\n",
       "<polygon fill=\"black\" points=\"682,-56.6068 678.5,-46.6068 675,-56.6069 682,-56.6068\" stroke=\"black\"/>\n",
       "</g>\n",
       "<!-- 1852767743952 -->\n",
       "<g class=\"node\" id=\"node11\"><title>1852767743952</title>\n",
       "<polygon fill=\"none\" points=\"825,-0.5 825,-46.5 1082,-46.5 1082,-0.5 825,-0.5\" stroke=\"black\"/>\n",
       "<text font-family=\"Times New Roman,serif\" font-size=\"14.00\" text-anchor=\"middle\" x=\"877\" y=\"-19.8\">dense_4: Dense</text>\n",
       "<polyline fill=\"none\" points=\"929,-0.5 929,-46.5 \" stroke=\"black\"/>\n",
       "<text font-family=\"Times New Roman,serif\" font-size=\"14.00\" text-anchor=\"middle\" x=\"957\" y=\"-31.3\">input:</text>\n",
       "<polyline fill=\"none\" points=\"929,-23.5 985,-23.5 \" stroke=\"black\"/>\n",
       "<text font-family=\"Times New Roman,serif\" font-size=\"14.00\" text-anchor=\"middle\" x=\"957\" y=\"-8.3\">output:</text>\n",
       "<polyline fill=\"none\" points=\"985,-0.5 985,-46.5 \" stroke=\"black\"/>\n",
       "<text font-family=\"Times New Roman,serif\" font-size=\"14.00\" text-anchor=\"middle\" x=\"1033.5\" y=\"-31.3\">(None, 15680)</text>\n",
       "<polyline fill=\"none\" points=\"985,-23.5 1082,-23.5 \" stroke=\"black\"/>\n",
       "<text font-family=\"Times New Roman,serif\" font-size=\"14.00\" text-anchor=\"middle\" x=\"1033.5\" y=\"-8.3\">(None, 11)</text>\n",
       "</g>\n",
       "<!-- 1852767225168&#45;&gt;1852767743952 -->\n",
       "<g class=\"edge\" id=\"edge10\"><title>1852767225168-&gt;1852767743952</title>\n",
       "<path d=\"M753.282,-83.4734C789.052,-72.9374 832.03,-60.2785 868.981,-49.3947\" fill=\"none\" stroke=\"black\"/>\n",
       "<polygon fill=\"black\" points=\"870.13,-52.7051 878.733,-46.5222 868.152,-45.9903 870.13,-52.7051\" stroke=\"black\"/>\n",
       "</g>\n",
       "<!-- 1852767942864 -->\n",
       "<g class=\"node\" id=\"node12\"><title>1852767942864</title>\n",
       "<polygon fill=\"none\" points=\"1100,-0.5 1100,-46.5 1357,-46.5 1357,-0.5 1100,-0.5\" stroke=\"black\"/>\n",
       "<text font-family=\"Times New Roman,serif\" font-size=\"14.00\" text-anchor=\"middle\" x=\"1152\" y=\"-19.8\">dense_5: Dense</text>\n",
       "<polyline fill=\"none\" points=\"1204,-0.5 1204,-46.5 \" stroke=\"black\"/>\n",
       "<text font-family=\"Times New Roman,serif\" font-size=\"14.00\" text-anchor=\"middle\" x=\"1232\" y=\"-31.3\">input:</text>\n",
       "<polyline fill=\"none\" points=\"1204,-23.5 1260,-23.5 \" stroke=\"black\"/>\n",
       "<text font-family=\"Times New Roman,serif\" font-size=\"14.00\" text-anchor=\"middle\" x=\"1232\" y=\"-8.3\">output:</text>\n",
       "<polyline fill=\"none\" points=\"1260,-0.5 1260,-46.5 \" stroke=\"black\"/>\n",
       "<text font-family=\"Times New Roman,serif\" font-size=\"14.00\" text-anchor=\"middle\" x=\"1308.5\" y=\"-31.3\">(None, 15680)</text>\n",
       "<polyline fill=\"none\" points=\"1260,-23.5 1357,-23.5 \" stroke=\"black\"/>\n",
       "<text font-family=\"Times New Roman,serif\" font-size=\"14.00\" text-anchor=\"middle\" x=\"1308.5\" y=\"-8.3\">(None, 11)</text>\n",
       "</g>\n",
       "<!-- 1852767225168&#45;&gt;1852767942864 -->\n",
       "<g class=\"edge\" id=\"edge11\"><title>1852767225168-&gt;1852767942864</title>\n",
       "<path d=\"M820.061,-86.2351C897.118,-75.5579 994.393,-61.7726 1089.69,-47.2642\" fill=\"none\" stroke=\"black\"/>\n",
       "<polygon fill=\"black\" points=\"1090.45,-50.69 1099.8,-45.7212 1089.39,-43.7702 1090.45,-50.69\" stroke=\"black\"/>\n",
       "</g>\n",
       "</g>\n",
       "</svg>"
      ],
      "text/plain": [
       "<IPython.core.display.SVG object>"
      ]
     },
     "execution_count": 6,
     "metadata": {},
     "output_type": "execute_result"
    }
   ],
   "source": [
    "from keras.utils.vis_utils import plot_model, model_to_dot\n",
    "from IPython.display import Image, SVG\n",
    "\n",
    "# TODO: 可视化你的模型\n",
    "SVG(model_to_dot(model,show_shapes=True).create(prog='dot', format='svg'))"
   ]
  },
  {
   "cell_type": "markdown",
   "metadata": {},
   "source": [
    "### 问题 3\n",
    "_你最终的模型架构是什么样的？（什么类型的模型，层数，大小, 如何连接等）_\n",
    "\n",
    "**回答：**\n",
    "\n",
    "我最终的模型是利用keras学习库搭建的8层卷积神经网络。\n",
    "1. 第一层是输入层，输入(28,140,1）的图像。\n",
    "2. 第二层是核为32，尺寸为3*3的卷积层。\n",
    "3. 第三层是2*2的max pool池化层。\n",
    "4. 第四层是核为64，尺寸为3*3的卷积层。\n",
    "5. 第五层是2*2的max pool池化层。\n",
    "6. 第六层是Flatten层，把多维输入进行一维化，用于卷积层到全连接层的过渡。\n",
    "7. 第七层是dropout层，进行正则化，降低过拟合。\n",
    "8. 第八层就是五个结果的输出层。"
   ]
  },
  {
   "cell_type": "markdown",
   "metadata": {},
   "source": [
    "### 练习：训练你的网络模型\n",
    "\n",
    "训练你的模型时，需要设置训练集和验证集。"
   ]
  },
  {
   "cell_type": "code",
   "execution_count": 7,
   "metadata": {
    "collapsed": false
   },
   "outputs": [
    {
     "name": "stdout",
     "output_type": "stream",
     "text": [
      "47872/|/[loss: 0.119, dense_1_loss: 0.039, dense_2_loss: 0.032, dense_3_loss: 0.026, dense_4_loss: 0.016, dense_5_loss: 0.006, dense_1_acc: 0.987, dense_2_acc: 0.990, dense_3_acc: 0.992, dense_4_acc: 0.995, dense_5_acc: 0.998] 100%|| 47872/48000 [03:57<00:00, 208.18it/s]\n"
     ]
    },
    {
     "data": {
      "text/plain": [
       "<keras.callbacks.History at 0x1af62bdbbe0>"
      ]
     },
     "execution_count": 7,
     "metadata": {},
     "output_type": "execute_result"
    }
   ],
   "source": [
    "# TODO: 训练你的模型\n",
    "from keras_tqdm import TQDMNotebookCallback #解决jupyter notebook链接超时问题\n",
    "x_train = X_train.astype('float32')\n",
    "x_valid = X_valid.astype('float32')\n",
    "#正则化\n",
    "x_train /= 255\n",
    "x_valid /= 255\n",
    "batch_size = 256\n",
    "epochs = 7\n",
    "model.fit(x_train,y_train,batch_size=batch_size,epochs=epochs,verbose=0,validation_data=(x_valid, y_valid),callbacks=[TQDMNotebookCallback(leave_inner=True,leave_outer=True)]) "
   ]
  },
  {
   "cell_type": "markdown",
   "metadata": {},
   "source": [
    "在我的本地环境中开启verbose会导致jupyter notebook因为进度条原因在训练过程中链接超时导致奔溃,所以引入keras_tqdm模块代替进度条，\n",
    "但不知道为何导出html时候无法保留训练结果，所以截图如下：\n",
    "![](1.png)\n"
   ]
  },
  {
   "cell_type": "markdown",
   "metadata": {},
   "source": [
    "### 练习：计算你的模型准确率\n",
    "\n",
    "我们刚才得到了模型每个数字的准确率，现在让我们来计算整体准确率，按照完全预测正确数字序列的标准来计算。\n",
    "\n",
    "比如 1,2,3,10,10 预测成了 1,2,10,10,10 算错，而不是算对了80%。"
   ]
  },
  {
   "cell_type": "code",
   "execution_count": 9,
   "metadata": {
    "collapsed": false,
    "scrolled": true
   },
   "outputs": [
    {
     "data": {
      "text/plain": [
       "0.9471"
      ]
     },
     "execution_count": 9,
     "metadata": {},
     "output_type": "execute_result"
    }
   ],
   "source": [
    "# def evaluate(model,x_test,y_test):\n",
    "#     # TODO: 按照错一个就算错的规则计算准确率\n",
    "#     total_num = x_test.shape[0] #一共有几张图\n",
    "#     each_occupy = len(y_test) #每张图实际包含几个数字（包括了被填充为10的空值）\n",
    "#     predict = model.predict(x_test)\n",
    "#     right_num = 0\n",
    "#     for j in range(0,total_num):\n",
    "#         if_same = True\n",
    "#         for i in range(0,each_occupy):\n",
    "#             if np.array_equal(y_test[i][j],predict[i][j]):\n",
    "#                 if_same = True\n",
    "#             else:\n",
    "#                 if_same = False\n",
    "#                 break\n",
    "#         if if_same == True:\n",
    "#             right_num += 1\n",
    "#     accuracy = float(right_num)/float(total_num)\n",
    "#     return accuracy\n",
    "# evaluate(model,X_test,y_test)\n",
    "\n",
    "def evaluate(model,x_test, y_test):\n",
    "    predict = model.predict(x_test)\n",
    "    predict = np.array(predict) #list转换为np array\n",
    "    predict = np.argmax(predict, axis = 2)\n",
    "    y_test = np.argmax(y_test,axis = 2)\n",
    "    predict = predict.T\n",
    "    y_test = y_test.T\n",
    "    right_number = 0\n",
    "    for i in range(len(predict)):\n",
    "        if (predict[i] == y_test[i]).all():\n",
    "            right_number += 1\n",
    "    accuracy = float(right_number)/len(x_test)\n",
    "    return accuracy\n",
    "evaluate(model,X_test,y_test)"
   ]
  },
  {
   "cell_type": "markdown",
   "metadata": {},
   "source": [
    "### 问题 4\n",
    "\n",
    "_你的模型准确率有多少？你觉得你的模型足以解决问题吗？_\n",
    "\n",
    "**回答：**\n",
    "\n",
    "模型准确率有0.9471，足以解决问题。"
   ]
  },
  {
   "cell_type": "markdown",
   "metadata": {},
   "source": [
    "### 预测值可视化\n",
    "\n",
    "我们将模型的预测结果和真实值画出来，观察真实效果。"
   ]
  },
  {
   "cell_type": "code",
   "execution_count": 10,
   "metadata": {
    "collapsed": false
   },
   "outputs": [
    {
     "data": {
      "text/plain": [
       "(-0.5, 139.5, 27.5, -0.5)"
      ]
     },
     "execution_count": 10,
     "metadata": {},
     "output_type": "execute_result"
    },
    {
     "data": {
      "image/png": "[encoded data removed]",
      "text/plain": [
       "<matplotlib.figure.Figure at 0x1af6e891518>"
      ]
     },
     "metadata": {
      "image/png": {
       "height": 127,
       "width": 370
      }
     },
     "output_type": "display_data"
    }
   ],
   "source": [
    "def get_result(result):\n",
    "    # 将 one_hot 编码解码\n",
    "    resultstr = ''\n",
    "    for i in range(n_len):\n",
    "        resultstr += str(np.argmax(result[i])) + ','\n",
    "    return resultstr\n",
    "\n",
    "index = random.randint(0, n_test-1)\n",
    "y_pred = model.predict(X_test[index].reshape(1, height, width*n_len, 1))\n",
    "\n",
    "plt.title('real: %s\\npred:%s'%(get_result([y_test[x][index] for x in range(n_len)]), get_result(y_pred)))\n",
    "plt.imshow(X_test[index,:,:,0], cmap='gray')\n",
    "plt.axis('off')"
   ]
  },
  {
   "cell_type": "markdown",
   "metadata": {},
   "source": [
    "### 保存模型\n",
    "\n",
    "模型达到满意的效果以后，我们需要保存模型，以便下次调用。\n",
    "\n",
    "读取的方式也很简单：`model = load_model('model.h5')`"
   ]
  },
  {
   "cell_type": "code",
   "execution_count": 11,
   "metadata": {
    "collapsed": false
   },
   "outputs": [],
   "source": [
    "model.save('model.h5')"
   ]
  }
 ],
 "metadata": {
  "anaconda-cloud": {},
  "kernelspec": {
   "display_name": "Python 3",
   "language": "python",
   "name": "python3"
  },
  "language_info": {
   "codemirror_mode": {
    "name": "ipython",
    "version": 3
   },
   "file_extension": ".py",
   "mimetype": "text/x-python",
   "name": "python",
   "nbconvert_exporter": "python",
   "pygments_lexer": "ipython3",
   "version": "3.5.2"
  },
  "widgets": {
   "state": {
    "111de6d4b33e4cb2a0db013538fe41c3": {
     "views": [
      {
       "cell_index": 17
      }
     ]
    },
    "6a038920ca57426c966aa598ee81f48b": {
     "views": [
      {
       "cell_index": 17
      }
     ]
    },
    "81b1aa87b4244e56bdef36ccf7f27809": {
     "views": [
      {
       "cell_index": 17
      }
     ]
    },
    "92e9f61e65034f809102579127b0eb47": {
     "views": [
      {
       "cell_index": 17
      }
     ]
    },
    "99ad8346f2184d21b4b678598c6e624a": {
     "views": [
      {
       "cell_index": 17
      }
     ]
    },
    "a9d3824b4d78422a905e602f6071a598": {
     "views": [
      {
       "cell_index": 17
      }
     ]
    },
    "d59b6c0261d3447abf9cb581012b83d7": {
     "views": [
      {
       "cell_index": 17
      }
     ]
    },
    "ea3299fc339442b593d3c61f8679323d": {
     "views": [
      {
       "cell_index": 17
      }
     ]
    }
   },
   "version": "1.2.0"
  }
 },
 "nbformat": 4,
 "nbformat_minor": 1
}
